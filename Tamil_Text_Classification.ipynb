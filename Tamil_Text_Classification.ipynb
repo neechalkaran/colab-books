{
  "nbformat": 4,
  "nbformat_minor": 0,
  "metadata": {
    "colab": {
      "name": "Tamil Text Classification .ipynb",
      "provenance": []
    },
    "kernelspec": {
      "name": "python3",
      "display_name": "Python 3"
    }
  },
  "cells": [
    {
      "cell_type": "markdown",
      "metadata": {
        "id": "B2CoTNGSWbe_"
      },
      "source": [
        "Dataset at https://www.kaggle.com/neechalkaran "
      ]
    },
    {
      "cell_type": "markdown",
      "metadata": {
        "id": "yrJf4vqXR1E6"
      },
      "source": [
        "Eventhough Tamil has definite grammar to develop rulebased approach, It is an experimental work using ML Approach to predict.\n",
        "\n"
      ]
    },
    {
      "cell_type": "code",
      "metadata": {
        "colab": {
          "base_uri": "https://localhost:8080/"
        },
        "id": "684Juco9C8O-",
        "outputId": "cf99b654-a754-4893-e9af-f48150724ce5"
      },
      "source": [
        "#to predict Grammar type. Supervised Learning/Classification\n",
        "#!pip install transformers  \n",
        "import numpy as np # linear algebra\n",
        "import pandas as pd # data processing, CSV file I/O (e.g. pd.read_cs\n",
        "import os # The OS module in python provides functions for interacting with the operating system\n",
        "\n",
        "\n",
        "from tqdm import tqdm, trange# for progress bar\n",
        "data = pd.read_csv(\"/content/kaggle/Error Annotated Corpus.csv\", encoding=\"utf=8\").fillna(method=\"ffill\")\n",
        "#data.tail(10)# show last 10 rows\n",
        "\n",
        "\n",
        "train_documents = [word for word in data['Corrected words & its']]\n",
        "train_labels = [tag for tag in data['Annotation']]\n",
        "\n",
        "\n",
        "from sklearn.feature_extraction.text import CountVectorizer\n",
        "from sklearn.naive_bayes import BernoulliNB\n",
        "count_vectorizer = CountVectorizer(binary=\"true\")\n",
        "train_documents = count_vectorizer.fit_transform(train_documents)\n",
        "\n",
        "\n",
        "classifier = BernoulliNB().fit(train_documents, train_labels)#Naive Bayes \n",
        "\n",
        "def predictionType(sentence):\n",
        "    prediction = classifier.predict(count_vectorizer.transform([sentence]))\n",
        "    print(prediction[0])\n",
        "\n",
        "\n",
        "predictionType(\"அதிகச் செயல்திறனுடையதாக\")        \n",
        "predictionType(\"இனையமைச்சர் பார்த்தார்\")       \n",
        "predictionType(\" ஆதரவை செய்து \")       "
      ],
      "execution_count": 24,
      "outputs": [
        {
          "output_type": "stream",
          "text": [
            "மகர ஈற்று\n",
            "தட்டுப்பிழை\n",
            "தட்டுப்பிழை\n"
          ],
          "name": "stdout"
        }
      ]
    },
    {
      "cell_type": "code",
      "metadata": {
        "colab": {
          "base_uri": "https://localhost:8080/"
        },
        "id": "0vvPYwp1U6ZW",
        "outputId": "674f686d-6c9e-4926-c1be-9b2e51476b11"
      },
      "source": [
        "#to predict sandhi presence between two words\n",
        "#!pip install transformers  \n",
        "import numpy as np # linear algebra\n",
        "import pandas as pd # data processing, CSV file I/O (e.g. pd.read_cs\n",
        "import os # The OS module in python provides functions for interacting with the operating system\n",
        "\n",
        "\n",
        "from tqdm import tqdm, trange# for progress bar\n",
        "data = pd.read_csv(\"/content/kaggle/Error Annotated Corpus.csv\", encoding=\"utf=8\").fillna(method=\"ffill\")\n",
        "\n",
        "\n",
        "train_documents = [word for word in data['Corrected words & its']]\n",
        "train_labels = ['true' for tag in data['Annotation']]\n",
        "train_documents2 = [word for word in data['Error word & consecutive word']]\n",
        "train_labels2 = ['false' for tag in data['Annotation']]\n",
        "\n",
        "for i in train_documents2:\n",
        "    train_documents.append(i) \n",
        "for i in train_labels2:\n",
        "    train_labels.append(i) \n",
        "\n",
        "from sklearn.feature_extraction.text import CountVectorizer\n",
        "from sklearn.naive_bayes import BernoulliNB\n",
        "count_vectorizer = CountVectorizer(binary=\"true\")\n",
        "train_documents = count_vectorizer.fit_transform(train_documents)\n",
        "classifier = BernoulliNB().fit(train_documents, train_labels)\n",
        "\n",
        "def predictionType(sentence):\n",
        "    prediction = classifier.predict(count_vectorizer.transform([sentence]))\n",
        "    print(prediction[0])\n",
        "\n",
        "\n",
        "predictionType(\"முதல்  கட்டத்தில்\")   \n",
        "predictionType(\"இறுதி கட்டத்தில்\")     \n",
        "predictionType(\"அதோடு கட்டத்தில்\")     \n",
        "predictionType(\"அதனை கண்டார்\")     "
      ],
      "execution_count": 29,
      "outputs": [
        {
          "output_type": "stream",
          "text": [
            "false\n",
            "true\n",
            "false\n",
            "true\n"
          ],
          "name": "stdout"
        }
      ]
    },
    {
      "cell_type": "code",
      "metadata": {
        "colab": {
          "base_uri": "https://localhost:8080/"
        },
        "id": "7uxisY8SYIQ_",
        "outputId": "b6d279aa-3e5e-4300-e8fa-742423f71066"
      },
      "source": [
        "#To predict District from given sentence which contains Constituency \n",
        "from sklearn.feature_extraction.text import TfidfVectorizer, CountVectorizer\n",
        "\n",
        "from sklearn.metrics import confusion_matrix\n",
        "from sklearn.metrics import classification_report\n",
        "\n",
        "from sklearn.model_selection import cross_val_score\n",
        "from sklearn.model_selection import cross_val_predict\n",
        "from sklearn.model_selection import train_test_split\n",
        "\n",
        "#from sklearn.svm import LinearSVC\n",
        "from sklearn.tree import DecisionTreeClassifier\n",
        "from sklearn import tree\n",
        "\n",
        "\n",
        "\n",
        "data = pd.read_csv(\"/content/kaggle/Tamil Nadu Habitants.csv\", encoding=\"utf=8\").fillna(method=\"ffill\")\n",
        "data.tail(10)# show last 10 rows\n",
        "\n",
        "\n",
        "#data.info()\n",
        "#data.isnull()\n",
        "#data.describe()\n",
        "\n",
        "#train_documents = [word for word in data['குடியிருப்பு']]\n",
        "train_documents = [word for word in data['தொகுதி']]\n",
        "train_labels = [tag for tag in data['மாவட்டம்']]\n",
        "\n",
        "X_train, X_test, y_train, y_test = train_test_split(train_documents, train_labels, test_size=0.1, random_state=1337)\n",
        "\n",
        "vectorizer = CountVectorizer()\n",
        "\n",
        "X_train = vectorizer.fit_transform(X_train)\n",
        "X_test = vectorizer.transform(X_test)\n",
        "\n",
        "dt = DecisionTreeClassifier()\n",
        "dt.fit(X_train, y_train)\n",
        "y_pred = dt.predict(X_test)\n",
        "print(classification_report(y_test, y_pred))\n",
        "print(confusion_matrix(y_test, y_pred))\n",
        "print(y_pred)\n"
      ],
      "execution_count": 9,
      "outputs": [
        {
          "output_type": "stream",
          "text": [
            "/usr/local/lib/python3.7/dist-packages/IPython/core/interactiveshell.py:2718: DtypeWarning: Columns (24) have mixed types.Specify dtype option on import or set low_memory=False.\n",
            "  interactivity=interactivity, compiler=compiler, result=result)\n"
          ],
          "name": "stderr"
        },
        {
          "output_type": "stream",
          "text": [
            "                            precision    recall  f1-score   support\n",
            "\n",
            "         அரியலூர் மாவட்டம்       1.00      1.00      1.00        69\n",
            "    இராணிப்பேட்டை மாவட்டம்       0.66      1.00      0.79       120\n",
            "     இராமநாதபுரம் மாவட்டம்       0.81      0.74      0.77       131\n",
            "            ஈரோடு மாவட்டம்       0.85      0.79      0.82       207\n",
            "           கடலூர் மாவட்டம்       1.00      0.59      0.74       229\n",
            "     கன்னியாகுமரி மாவட்டம்       1.00      0.64      0.78       159\n",
            "            கரூர் மாவட்டம்       1.00      0.75      0.85       106\n",
            "   கள்ளக்குறிச்சி மாவட்டம்       1.00      1.00      1.00       150\n",
            "      காஞ்சிபுரம் மாவட்டம்       0.42      0.74      0.54       140\n",
            "      கிருஷ்ணகிரி மாவட்டம்       1.00      1.00      1.00       187\n",
            "    கோயம்புத்தூர் மாவட்டம்       0.19      1.00      0.31       308\n",
            "         சிவகங்கை மாவட்டம்       1.00      0.74      0.85        96\n",
            "     செங்கல்பட்டு மாவட்டம்       1.00      0.80      0.89       262\n",
            "           சென்னை மாவட்டம்       0.88      0.70      0.78       393\n",
            "            சேலம் மாவட்டம்       0.91      0.91      0.91       352\n",
            "        தஞ்சாவூர் மாவட்டம்       1.00      0.77      0.87       259\n",
            "         தருமபுரி மாவட்டம்       0.61      1.00      0.75       166\n",
            "      திண்டுக்கல் மாவட்டம்       1.00      0.82      0.90       181\n",
            "திருச்சிராப்பள்ளி மாவட்டம்       1.00      0.58      0.73       249\n",
            "     திருநெல்வேலி மாவட்டம்       1.00      0.24      0.38       170\n",
            "    திருப்பத்தூர் மாவட்டம்       0.70      0.62      0.66       134\n",
            "       திருப்பூர் மாவட்டம்       1.00      0.64      0.78       260\n",
            "     திருவண்ணாமலை மாவட்டம்       1.00      0.47      0.64       246\n",
            "      திருவள்ளூர் மாவட்டம்       1.00      0.77      0.87       342\n",
            "       திருவாரூர் மாவட்டம்       0.67      0.45      0.54       105\n",
            "     தூத்துக்குடி மாவட்டம்       1.00      0.44      0.61       139\n",
            "         தென்காசி மாவட்டம்       1.00      0.78      0.88       168\n",
            "             தேனி மாவட்டம்       1.00      1.00      1.00       115\n",
            "    நாகப்பட்டினம் மாவட்டம்       1.00      0.45      0.62       166\n",
            "         நாமக்கல் மாவட்டம்       1.00      0.71      0.83       165\n",
            "          நீலகிரி மாவட்டம்       1.00      0.68      0.81        66\n",
            "     புதுக்கோட்டை மாவட்டம்       1.00      0.92      0.96       146\n",
            "       பெரம்பலூர் மாவட்டம்       1.00      1.00      1.00        55\n",
            "            மதுரை மாவட்டம்       1.00      0.88      0.94       254\n",
            "       விருதுநகர் மாவட்டம்       0.83      0.45      0.58       182\n",
            "      விழுப்புரம் மாவட்டம்       1.00      0.27      0.42       188\n",
            "           வேலூர் மாவட்டம்       1.00      0.57      0.72       113\n",
            "\n",
            "                  accuracy                           0.73      6778\n",
            "                 macro avg       0.91      0.73      0.77      6778\n",
            "              weighted avg       0.90      0.73      0.76      6778\n",
            "\n",
            "[[ 69   0   0 ...   0   0   0]\n",
            " [  0 120   0 ...   0   0   0]\n",
            " [  0   0  97 ...   0   0   0]\n",
            " ...\n",
            " [  0   0   0 ...  82   0   0]\n",
            " [  0   0   0 ...   0  50   0]\n",
            " [  0   0   0 ...   0   0  64]]\n",
            "['தூத்துக்குடி மாவட்டம்' 'கோயம்புத்தூர் மாவட்டம்' 'நாமக்கல் மாவட்டம்' ...\n",
            " 'கோயம்புத்தூர் மாவட்டம்' 'கோயம்புத்தூர் மாவட்டம்' 'காஞ்சிபுரம் மாவட்டம்']\n"
          ],
          "name": "stdout"
        }
      ]
    },
    {
      "cell_type": "code",
      "metadata": {
        "colab": {
          "base_uri": "https://localhost:8080/"
        },
        "id": "dvUA9fKmSjMn",
        "outputId": "541a6852-24e5-467c-9726-498c969de133"
      },
      "source": [
        "#Examples\n",
        "teststring = vectorizer.transform([\"   சோழிங்கநல்லூர் அருகே வேளச்சேரி பேருந்து நிலையத்தில் புதிய நடைமேடை திறந்து வைக்கப்பட்டது  \"])\n",
        "custom_pred = dt.predict(teststring)\n",
        "print(custom_pred)\n",
        "teststring = vectorizer.transform([\" மதுரை அருகே திருப்பரங்குன்றம் கோயில் தேர் திருவிழா நடைபெற்றது \"])\n",
        "custom_pred = dt.predict(teststring)\n",
        "print(custom_pred)"
      ],
      "execution_count": 16,
      "outputs": [
        {
          "output_type": "stream",
          "text": [
            "['செங்கல்பட்டு மாவட்டம்']\n",
            "['மதுரை மாவட்டம்']\n"
          ],
          "name": "stdout"
        }
      ]
    },
    {
      "cell_type": "code",
      "metadata": {
        "colab": {
          "base_uri": "https://localhost:8080/"
        },
        "id": "DQfg7UkpOO-e",
        "outputId": "e595020e-a7b3-4e2d-9c17-f77b0a6abf7f"
      },
      "source": [
        "\n",
        "classifier=RandomForestClassifier()\n",
        "\n",
        "classifier=classifier.fit(X_train,y_train)\n",
        "predicted=classifier.predict(X_test)\n",
        "  \n",
        "#printing the results\n",
        "print ('Confusion Matrix :')\n",
        "print(confusion_matrix(y_test, predicted))\n",
        "print ('Accuracy Score :',accuracy_score(y_test, predicted))\n",
        "print ('Report : ')\n",
        "print (classification_report(y_test, predicted))"
      ],
      "execution_count": 29,
      "outputs": [
        {
          "output_type": "stream",
          "text": [
            "Confusion Matrix :\n",
            "[[ 69   0   0 ...   0   0   0]\n",
            " [  0 120   0 ...   0   0   0]\n",
            " [  0   0  97 ...   0   0   0]\n",
            " ...\n",
            " [  0   0   0 ...  82   0   0]\n",
            " [  0   0   0 ...   0  50   0]\n",
            " [  0   0   0 ...   0   0  64]]\n",
            "Accuracy Score : 0.7257303039244615\n",
            "Report : \n",
            "                            precision    recall  f1-score   support\n",
            "\n",
            "         அரியலூர் மாவட்டம்       1.00      1.00      1.00        69\n",
            "    இராணிப்பேட்டை மாவட்டம்       0.66      1.00      0.79       120\n",
            "     இராமநாதபுரம் மாவட்டம்       0.81      0.74      0.77       131\n",
            "            ஈரோடு மாவட்டம்       0.85      0.79      0.82       207\n",
            "           கடலூர் மாவட்டம்       1.00      0.59      0.74       229\n",
            "     கன்னியாகுமரி மாவட்டம்       1.00      0.64      0.78       159\n",
            "            கரூர் மாவட்டம்       1.00      0.75      0.85       106\n",
            "   கள்ளக்குறிச்சி மாவட்டம்       1.00      1.00      1.00       150\n",
            "      காஞ்சிபுரம் மாவட்டம்       0.42      0.74      0.54       140\n",
            "      கிருஷ்ணகிரி மாவட்டம்       1.00      1.00      1.00       187\n",
            "    கோயம்புத்தூர் மாவட்டம்       0.19      1.00      0.31       308\n",
            "         சிவகங்கை மாவட்டம்       1.00      0.74      0.85        96\n",
            "     செங்கல்பட்டு மாவட்டம்       1.00      0.80      0.89       262\n",
            "           சென்னை மாவட்டம்       0.88      0.70      0.78       393\n",
            "            சேலம் மாவட்டம்       0.91      0.91      0.91       352\n",
            "        தஞ்சாவூர் மாவட்டம்       1.00      0.77      0.87       259\n",
            "         தருமபுரி மாவட்டம்       0.64      0.81      0.71       166\n",
            "      திண்டுக்கல் மாவட்டம்       0.85      1.00      0.92       181\n",
            "திருச்சிராப்பள்ளி மாவட்டம்       1.00      0.58      0.73       249\n",
            "     திருநெல்வேலி மாவட்டம்       1.00      0.24      0.38       170\n",
            "    திருப்பத்தூர் மாவட்டம்       0.70      0.62      0.66       134\n",
            "       திருப்பூர் மாவட்டம்       1.00      0.64      0.78       260\n",
            "     திருவண்ணாமலை மாவட்டம்       1.00      0.47      0.64       246\n",
            "      திருவள்ளூர் மாவட்டம்       1.00      0.77      0.87       342\n",
            "       திருவாரூர் மாவட்டம்       0.67      0.45      0.54       105\n",
            "     தூத்துக்குடி மாவட்டம்       1.00      0.44      0.61       139\n",
            "         தென்காசி மாவட்டம்       1.00      0.78      0.88       168\n",
            "             தேனி மாவட்டம்       1.00      1.00      1.00       115\n",
            "    நாகப்பட்டினம் மாவட்டம்       1.00      0.45      0.62       166\n",
            "         நாமக்கல் மாவட்டம்       1.00      0.71      0.83       165\n",
            "          நீலகிரி மாவட்டம்       1.00      0.68      0.81        66\n",
            "     புதுக்கோட்டை மாவட்டம்       1.00      0.92      0.96       146\n",
            "       பெரம்பலூர் மாவட்டம்       1.00      1.00      1.00        55\n",
            "            மதுரை மாவட்டம்       1.00      0.88      0.94       254\n",
            "       விருதுநகர் மாவட்டம்       0.83      0.45      0.58       182\n",
            "      விழுப்புரம் மாவட்டம்       1.00      0.27      0.42       188\n",
            "           வேலூர் மாவட்டம்       1.00      0.57      0.72       113\n",
            "\n",
            "                  accuracy                           0.73      6778\n",
            "                 macro avg       0.90      0.73      0.77      6778\n",
            "              weighted avg       0.90      0.73      0.76      6778\n",
            "\n"
          ],
          "name": "stdout"
        }
      ]
    },
    {
      "cell_type": "code",
      "metadata": {
        "colab": {
          "base_uri": "https://localhost:8080/"
        },
        "id": "Fa9QGQSzCXKG",
        "outputId": "4516af3c-3c1c-466b-cc4d-324fb0b86b9c"
      },
      "source": [
        "# to predict location. Supervised Learning/Classification\n",
        "#!pip install transformers  \n",
        "import numpy as np # linear algebra\n",
        "import pandas as pd # data processing, CSV file I/O (e.g. pd.read_cs\n",
        "import os # The OS module in python provides functions for interacting with the operating system\n",
        "\n",
        "\n",
        "from tqdm import tqdm, trange# for progress bar\n",
        "data = pd.read_csv(\"/content/kaggle/Tamil Nadu Habitants.csv\", encoding=\"utf=8\").fillna(method=\"ffill\")\n",
        "data.tail(10)# show last 10 rows\n",
        "\n",
        "\n",
        "#data.info()\n",
        "#data.isnull()\n",
        "#data.describe()\n",
        "#data['Annotation'].value_counts()#to get count\n",
        "#data['Annotation'].unique()\n",
        "\n",
        "train_documents = [word for word in data['தொகுதி']]\n",
        "train_labels = [tag for tag in data['மாவட்டம்']]\n",
        "#print(train_documents[10])\n",
        "\n",
        "from sklearn.feature_extraction.text import CountVectorizer\n",
        "from sklearn.naive_bayes import BernoulliNB\n",
        "count_vectorizer = CountVectorizer(binary=\"true\")\n",
        "train_documents = count_vectorizer.fit_transform(train_documents)\n",
        "\n",
        "classifier = BernoulliNB().fit(train_documents, train_labels)#Naive Bayes \n",
        "\n",
        "def predictionType(sentence):\n",
        "    prediction = classifier.predict(count_vectorizer.transform([sentence]))\n",
        "    print(prediction[0])\n",
        "predictionType(\" கடையநல்லூரில் புதிய காவல் நிலையம் கட்டப்படுகிறது \")        \n"
      ],
      "execution_count": 18,
      "outputs": [
        {
          "output_type": "stream",
          "text": [
            "/usr/local/lib/python3.7/dist-packages/IPython/core/interactiveshell.py:2718: DtypeWarning: Columns (24) have mixed types.Specify dtype option on import or set low_memory=False.\n",
            "  interactivity=interactivity, compiler=compiler, result=result)\n"
          ],
          "name": "stderr"
        },
        {
          "output_type": "stream",
          "text": [
            "தென்காசி மாவட்டம்\n"
          ],
          "name": "stdout"
        }
      ]
    }
  ]
}